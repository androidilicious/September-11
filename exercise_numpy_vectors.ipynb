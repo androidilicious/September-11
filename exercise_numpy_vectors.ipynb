{
 "cells": [
  {
   "cell_type": "markdown",
   "id": "50f8977d",
   "metadata": {},
   "source": [
    "# Measuring Income Inequality\n",
    "\n",
    "### Data Source:\n",
    "A vector that contains estimates of the total income (from all sources) of a random sample of American households collected by the U.S. Census Bureau in 2019 as part of the American Community Survey (ACS).\n",
    "\n",
    "### Objectives:\n",
    "- Measure household income inequality in the United States\n",
    "- How income inequality might change under a range of different tax policies"
   ]
  },
  {
   "cell_type": "code",
   "execution_count": 36,
   "id": "312714cb",
   "metadata": {},
   "outputs": [],
   "source": [
    "import numpy as np\n",
    "\n",
    "url = 'https://raw.githubusercontent.com/nickeubank/practicaldatascience/master/Example_Data/us_household_incomes.txt'\n",
    "\n",
    "data = np.loadtxt(url)"
   ]
  },
  {
   "cell_type": "markdown",
   "id": "1dbe1d88",
   "metadata": {},
   "source": [
    "### Plot the income data after loading the vector of household incomes."
   ]
  },
  {
   "cell_type": "code",
   "execution_count": 37,
   "id": "f8ea0398",
   "metadata": {},
   "outputs": [
    {
     "data": {
      "text/plain": [
       "(array([8.77542e+05, 4.35030e+04, 1.01710e+04, 1.92100e+03, 3.98000e+02,\n",
       "        1.17000e+02, 2.90000e+01, 8.00000e+00, 4.00000e+00, 2.00000e+00]),\n",
       " array([ -16942. ,  225842.5,  468627. ,  711411.5,  954196. , 1196980.5,\n",
       "        1439765. , 1682549.5, 1925334. , 2168118.5, 2410903. ]),\n",
       " <BarContainer object of 10 artists>)"
      ]
     },
     "execution_count": 37,
     "metadata": {},
     "output_type": "execute_result"
    },
    {
     "data": {
      "image/png": "[encoded data removed]",
      "text/plain": [
       "<Figure size 640x480 with 1 Axes>"
      ]
     },
     "metadata": {},
     "output_type": "display_data"
    }
   ],
   "source": [
    "from matplotlib import pyplot as plt\n",
    "\n",
    "plt.hist(data)"
   ]
  },
  {
   "cell_type": "markdown",
   "id": "459c8d72",
   "metadata": {},
   "source": [
    "#### Does it look like a normal distribution? Uniform? Does this make you think that income equality is relatively high or low in the United States?\n",
    "\n",
    "**It does not look like a normal distribution. Income equality is relatively low.**\n",
    "\n",
    "### Create a histogram of US household incomes that includes only households making less than $500,000 to improve our ability to visualize what’s going on at lower incomes. "
   ]
  },
  {
   "cell_type": "code",
   "execution_count": 38,
   "id": "a8321b12",
   "metadata": {},
   "outputs": [
    {
     "data": {
      "text/plain": [
       "(array([262190., 338722., 173615.,  76580.,  33854.,  16134.,   8329.,\n",
       "          5401.,   4556.,   4038.]),\n",
       " array([-16942.,  34752.,  86446., 138140., 189834., 241528., 293222.,\n",
       "        344916., 396610., 448304., 499998.]),\n",
       " <BarContainer object of 10 artists>)"
      ]
     },
     "execution_count": 38,
     "metadata": {},
     "output_type": "execute_result"
    },
    {
     "data": {
      "image/png": "[encoded data removed]",
      "text/plain": [
       "<Figure size 640x480 with 1 Axes>"
      ]
     },
     "metadata": {},
     "output_type": "display_data"
    }
   ],
   "source": [
    "data_500k = data[data < 500000]\n",
    "\n",
    "plt.hist(data_500k)"
   ]
  },
  {
   "cell_type": "markdown",
   "id": "a878ed8c",
   "metadata": {},
   "source": [
    "#### For these households—the non-millionaires—do we see a more uniform distribution of incomes? Or is there still a significant right-skew / positive-skew (most people are on the left of the distribution, but there are more extreme values in the right tail) in the income distribution? In other words, is the skewness in the US income distribution driven by extreme high earners, or is it evident at all income levels?\n",
    "\n",
    "**There's still a significance amount of positive skew. The skewness appears to be evident cross income levels.**"
   ]
  },
  {
   "cell_type": "code",
   "execution_count": 39,
   "id": "f6b9fae1",
   "metadata": {},
   "outputs": [
    {
     "name": "stdout",
     "output_type": "stream",
     "text": [
      "The share of US Households earning less than $20,000 in 2008 was 0.15\n"
     ]
    }
   ],
   "source": [
    "from ineqpy.inequality import gini\n",
    "\n",
    "results = {}\n",
    "\n",
    "ex4_share_below_poverty = np.sum(data < 20000)/len(data)\n",
    "\n",
    "results['ex4_share_below_poverty'] = ex4_share_below_poverty\n",
    "\n",
    "print(\n",
    "    \"The share of US Households earning less than \"\n",
    "    f\"$20,000 in 2008 was {ex4_share_below_poverty:.2f}\"\n",
    ")\n"
   ]
  },
  {
   "cell_type": "code",
   "execution_count": 40,
   "id": "012de131",
   "metadata": {},
   "outputs": [
    {
     "name": "stdout",
     "output_type": "stream",
     "text": [
      "The Gini Index of income inequality in the US is 0.48\n"
     ]
    }
   ],
   "source": [
    "#gini index\n",
    "ex4_gini = gini(data) # used the whole dataset\n",
    "\n",
    "results['ex4_gini'] = ex4_gini\n",
    "print(f\"The Gini Index of income inequality in the US is {ex4_gini:.2f}\")"
   ]
  },
  {
   "cell_type": "markdown",
   "id": "e4ac8314",
   "metadata": {},
   "source": [
    "#### Compare the policies' effect on reducing income inequality:\n",
    "- Policy A: giving every household that makes less than 40,000 dollars a check for 5,000 dollars, or\n",
    "- Policy B: giving every household that makes less than 30,000 dollars a check for 7,000 dollars."
   ]
  },
  {
   "cell_type": "code",
   "execution_count": 41,
   "id": "61f03ade",
   "metadata": {},
   "outputs": [
    {
     "name": "stdout",
     "output_type": "stream",
     "text": [
      "The Gini Index resulting of policy A is 0.460 \n",
      "The Gini Index resulting of policy B is 0.458\n"
     ]
    }
   ],
   "source": [
    "experiment1 = data.copy()\n",
    "experiment1[experiment1 < 40000] += 5000\n",
    "policy_a = experiment1\n",
    "\n",
    "experiment2 = data.copy()\n",
    "experiment2[experiment2 < 30000] += 7000\n",
    "policy_b = experiment2\n",
    "\n",
    "ex6_gini_policy_a = gini(policy_a)\n",
    "ex6_gini_policy_b = gini(policy_b)\n",
    "\n",
    "\n",
    "results['ex6_gini_policy_a'] = ex6_gini_policy_a\n",
    "results['ex6_gini_policy_b'] = ex6_gini_policy_b\n",
    "\n",
    "print(f\"The Gini Index resulting of policy A is {ex6_gini_policy_a:.3f} \\n\"\n",
    "      f\"The Gini Index resulting of policy B is {ex6_gini_policy_b:.3f}\")"
   ]
  },
  {
   "cell_type": "code",
   "execution_count": 42,
   "id": "d94e948c",
   "metadata": {},
   "outputs": [
    {
     "name": "stdout",
     "output_type": "stream",
     "text": [
      "Which policy lowered inequality more? Policy B\n"
     ]
    }
   ],
   "source": [
    "if ex6_gini_policy_a < ex6_gini_policy_b:\n",
    "    results['ex6_gini_which_reduced_more'] = 'Policy A'\n",
    "elif ex6_gini_policy_b < ex6_gini_policy_a:\n",
    "    results['ex6_gini_which_reduced_more'] = 'Policy B'\n",
    "else:\n",
    "    results['ex6_gini_which_reduced_more'] = 'Both policies have the same impact'\n",
    "\n",
    "print(f\"Which policy lowered inequality more? {results['ex6_gini_which_reduced_more']}\")\n"
   ]
  },
  {
   "cell_type": "markdown",
   "id": "1a092493",
   "metadata": {},
   "source": [
    "#### A new policy C is introduced which applies a tax of 5% to households making more than 250,000 dollars and using the money to pay down the National Debt."
   ]
  },
  {
   "cell_type": "code",
   "execution_count": 43,
   "id": "9e7eee7d",
   "metadata": {},
   "outputs": [
    {
     "name": "stdout",
     "output_type": "stream",
     "text": [
      "The Gini Index resulting of policy C is 0.48\n"
     ]
    }
   ],
   "source": [
    "experiment3 = data.copy()\n",
    "experiment3[experiment3 > 250000] *= .95\n",
    "policy_c = experiment3\n",
    "\n",
    "ex7_gini_policy_c = gini(policy_c)\n",
    "\n",
    "results['ex7_gini_policy_c'] = ex7_gini_policy_c\n",
    "\n",
    "print(f\"The Gini Index resulting of policy C is {ex7_gini_policy_c:.2f}\")"
   ]
  },
  {
   "cell_type": "markdown",
   "id": "36ef7fd2",
   "metadata": {},
   "source": [
    "#### Policy D applies a 5% tax to people making more than $250,000 and evenly distributed that tax revenue to households earning less than 30,000 dollars."
   ]
  },
  {
   "cell_type": "code",
   "execution_count": 44,
   "id": "4b97b8fa",
   "metadata": {},
   "outputs": [
    {
     "name": "stdout",
     "output_type": "stream",
     "text": [
      "The revenue raised from policy D is $929,623,340.85\n"
     ]
    }
   ],
   "source": [
    "# Exercise 8 Part A\n",
    "experiment4 = data.copy()\n",
    "\n",
    "ex8_revenue_raised = np.sum(experiment4[experiment4 > 250000] * .05)\n",
    "\n",
    "results['ex8_revenue_raised'] = ex8_revenue_raised\n",
    "\n",
    "print(f\"The revenue raised from policy D is ${ex8_revenue_raised:,.2f}\")"
   ]
  },
  {
   "cell_type": "code",
   "execution_count": 45,
   "id": "c0915357",
   "metadata": {},
   "outputs": [
    {
     "name": "stdout",
     "output_type": "stream",
     "text": [
      "The amount of transfer the households earning less than $30,000 would receive is $4,208.23\n"
     ]
    }
   ],
   "source": [
    "# Exercise 9\n",
    "experiment5 = data.copy()\n",
    "\n",
    "ex9_transfers = ex8_revenue_raised / np.sum(experiment5 < 30000)\n",
    "\n",
    "results['ex9_transfers'] = ex9_transfers\n",
    "\n",
    "print(f\"The amount of transfer the households earning less than $30,000 would receive is ${ex9_transfers:,.2f}\")"
   ]
  },
  {
   "cell_type": "code",
   "execution_count": 46,
   "id": "311dd2b9",
   "metadata": {},
   "outputs": [
    {
     "name": "stdout",
     "output_type": "stream",
     "text": [
      "The resulting Gini index of Policy D is 0.46\n"
     ]
    }
   ],
   "source": [
    "# Exercise 10\n",
    "\n",
    "experiment6 = data.copy()\n",
    "\n",
    "experiment6[experiment6 > 250000] *= 0.95\n",
    "new_incomes = experiment6\n",
    "experiment6[experiment6 < 30000] += ex9_transfers\n",
    "new_incomes = experiment6\n",
    "\n",
    "\n",
    "ex10_gini_policy_d = gini(new_incomes)\n",
    "\n",
    "results['ex10_gini_policy_d'] = ex10_gini_policy_d\n",
    "\n",
    "print(f\"The resulting Gini index of Policy D is {ex10_gini_policy_d:.2f}\")"
   ]
  },
  {
   "cell_type": "markdown",
   "id": "f322ebff",
   "metadata": {},
   "source": [
    "#### Policy E would distribute the revenue generated with the same tax (5% tax to people making more than $250,000), but this time we would distribute it evenly to all households earning less than $40,000 (instead of less than $30,000)."
   ]
  },
  {
   "cell_type": "code",
   "execution_count": 47,
   "id": "b3e7bd05",
   "metadata": {},
   "outputs": [
    {
     "name": "stdout",
     "output_type": "stream",
     "text": [
      "The resulting Gini index of Policy E is 0.46\n"
     ]
    }
   ],
   "source": [
    "# Exercise 11\n",
    "\n",
    "experiment7 = data.copy()\n",
    "experiment7[experiment7 > 250000] *= 0.95\n",
    "\n",
    "new_incomes = experiment7\n",
    "\n",
    "experiment7[experiment7 < 40000] += (ex8_revenue_raised/ np.sum(experiment7 < 40000))\n",
    "\n",
    "new_incomes = experiment7\n",
    "\n",
    "ex11_gini_policy_e = gini(new_incomes)\n",
    "\n",
    "results['ex11_gini_policy_e'] = ex11_gini_policy_e\n",
    "\n",
    "print(f\"The resulting Gini index of Policy E is {ex11_gini_policy_e:.2f}\")"
   ]
  },
  {
   "cell_type": "code",
   "execution_count": 48,
   "id": "414b7597",
   "metadata": {},
   "outputs": [
    {
     "name": "stdout",
     "output_type": "stream",
     "text": [
      "The policy that has lowered inequality more is Policy D\n"
     ]
    }
   ],
   "source": [
    "results['ex12_policy_recommendation'] = 'Policy D' if ex10_gini_policy_d < ex11_gini_policy_e else 'Policy E'\n",
    "\n",
    "print(f\"The policy that has lowered inequality more is {results['ex12_policy_recommendation']}\")"
   ]
  },
  {
   "cell_type": "markdown",
   "id": "7e3f884c",
   "metadata": {},
   "source": [
    "### Validation Check"
   ]
  },
  {
   "cell_type": "code",
   "execution_count": null,
   "id": "f7e5b2ab",
   "metadata": {},
   "outputs": [],
   "source": [
    "assert set(results.keys()) == {\n",
    "    \"ex4_share_below_poverty\",\n",
    "    \"ex4_gini\",\n",
    "    \"ex6_gini_policy_a\", \n",
    "    \"ex6_gini_policy_b\",\n",
    "    \"ex6_gini_which_reduced_more\",\n",
    "    \"ex7_gini_policy_c\",\n",
    "    \"ex8_revenue_raised\",\n",
    "    \"ex9_transfers\",\n",
    "    \"ex10_gini_policy_d\",\n",
    "    \"ex11_gini_policy_e\",\n",
    "    \"ex12_policy_recommendation\",\n",
    "    \"test\"\n",
    "}\n"
   ]
  },
  {
   "cell_type": "markdown",
   "id": "c7b483a3",
   "metadata": {},
   "source": [
    "Citation\n",
    "\n",
    "Steven Ruggles, Sarah Flood, Sophia Foster, Ronald Goeken, Jose Pacas, Megan Schouweiler and Matthew Sobek. IPUMS USA: Version 11.0 [dataset]. Minneapolis, MN: IPUMS, 2021. https://doi.org/10.18128/D010.V11.0"
   ]
  }
 ],
 "metadata": {
  "kernelspec": {
   "display_name": "base",
   "language": "python",
   "name": "python3"
  },
  "language_info": {
   "codemirror_mode": {
    "name": "ipython",
    "version": 3
   },
   "file_extension": ".py",
   "mimetype": "text/x-python",
   "name": "python",
   "nbconvert_exporter": "python",
   "pygments_lexer": "ipython3",
   "version": "3.12.11"
  }
 },
 "nbformat": 4,
 "nbformat_minor": 5
}
